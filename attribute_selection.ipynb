{
 "cells": [
  {
   "cell_type": "code",
   "execution_count": 3,
   "metadata": {},
   "outputs": [],
   "source": [
    "import numpy as np\n",
    "import pandas as pd\n",
    "import re\n",
    "import matplotlib.pyplot as plt\n",
    "import seaborn as sns"
   ]
  },
  {
   "cell_type": "code",
   "execution_count": 4,
   "metadata": {},
   "outputs": [
    {
     "data": {
      "text/plain": [
       "(159541, 89)"
      ]
     },
     "execution_count": 4,
     "metadata": {},
     "output_type": "execute_result"
    }
   ],
   "source": [
    "dataset = pd.read_csv('dataset.csv')\n",
    "dataset.shape"
   ]
  },
  {
   "cell_type": "markdown",
   "metadata": {},
   "source": [
    "# Preprocessing"
   ]
  },
  {
   "cell_type": "markdown",
   "metadata": {},
   "source": [
    "### check null"
   ]
  },
  {
   "cell_type": "code",
   "execution_count": 5,
   "metadata": {},
   "outputs": [
    {
     "data": {
      "text/plain": [
       "PositionsDesc    32\n",
       "dtype: int64"
      ]
     },
     "execution_count": 5,
     "metadata": {},
     "output_type": "execute_result"
    }
   ],
   "source": [
    "\n",
    "dataset.isnull().sum()[dataset.isnull().sum() > 0]"
   ]
  },
  {
   "cell_type": "code",
   "execution_count": 6,
   "metadata": {},
   "outputs": [
    {
     "data": {
      "text/plain": [
       "Series([], dtype: int64)"
      ]
     },
     "execution_count": 6,
     "metadata": {},
     "output_type": "execute_result"
    }
   ],
   "source": [
    "drop_list = dataset[dataset.PositionsDesc.isnull()].index\n",
    "dataset_1 = dataset.drop(index = drop_list)\n",
    "dataset_1.isnull().sum()[dataset_1.isnull().sum() > 0]"
   ]
  },
  {
   "cell_type": "code",
   "execution_count": 7,
   "metadata": {},
   "outputs": [
    {
     "data": {
      "text/html": [
       "<div>\n",
       "<style scoped>\n",
       "    .dataframe tbody tr th:only-of-type {\n",
       "        vertical-align: middle;\n",
       "    }\n",
       "\n",
       "    .dataframe tbody tr th {\n",
       "        vertical-align: top;\n",
       "    }\n",
       "\n",
       "    .dataframe thead th {\n",
       "        text-align: right;\n",
       "    }\n",
       "</style>\n",
       "<table border=\"1\" class=\"dataframe\">\n",
       "  <thead>\n",
       "    <tr style=\"text-align: right;\">\n",
       "      <th></th>\n",
       "      <th>UID</th>\n",
       "      <th>Name</th>\n",
       "      <th>NationID</th>\n",
       "      <th>Born</th>\n",
       "      <th>Age</th>\n",
       "      <th>Height</th>\n",
       "      <th>Weight</th>\n",
       "      <th>AerialAbility</th>\n",
       "      <th>CommandOfArea</th>\n",
       "      <th>Communication</th>\n",
       "      <th>...</th>\n",
       "      <th>AttackingMidRight</th>\n",
       "      <th>DefenderCentral</th>\n",
       "      <th>DefenderLeft</th>\n",
       "      <th>DefenderRight</th>\n",
       "      <th>DefensiveMidfielder</th>\n",
       "      <th>MidfielderCentral</th>\n",
       "      <th>MidfielderLeft</th>\n",
       "      <th>MidfielderRight</th>\n",
       "      <th>WingBackLeft</th>\n",
       "      <th>WingBackRight</th>\n",
       "    </tr>\n",
       "  </thead>\n",
       "  <tbody>\n",
       "    <tr>\n",
       "      <th>0</th>\n",
       "      <td>1000055</td>\n",
       "      <td>Wilfred Bamnjo</td>\n",
       "      <td>11</td>\n",
       "      <td>27-03-1980</td>\n",
       "      <td>36</td>\n",
       "      <td>178</td>\n",
       "      <td>79</td>\n",
       "      <td>1</td>\n",
       "      <td>1</td>\n",
       "      <td>2</td>\n",
       "      <td>...</td>\n",
       "      <td>1</td>\n",
       "      <td>1</td>\n",
       "      <td>1</td>\n",
       "      <td>1</td>\n",
       "      <td>20</td>\n",
       "      <td>11</td>\n",
       "      <td>1</td>\n",
       "      <td>1</td>\n",
       "      <td>1</td>\n",
       "      <td>1</td>\n",
       "    </tr>\n",
       "    <tr>\n",
       "      <th>1</th>\n",
       "      <td>1000331</td>\n",
       "      <td>Wang Wei</td>\n",
       "      <td>110</td>\n",
       "      <td>20-02-1982</td>\n",
       "      <td>34</td>\n",
       "      <td>188</td>\n",
       "      <td>90</td>\n",
       "      <td>12</td>\n",
       "      <td>3</td>\n",
       "      <td>5</td>\n",
       "      <td>...</td>\n",
       "      <td>1</td>\n",
       "      <td>1</td>\n",
       "      <td>1</td>\n",
       "      <td>1</td>\n",
       "      <td>1</td>\n",
       "      <td>1</td>\n",
       "      <td>1</td>\n",
       "      <td>1</td>\n",
       "      <td>1</td>\n",
       "      <td>1</td>\n",
       "    </tr>\n",
       "    <tr>\n",
       "      <th>2</th>\n",
       "      <td>1000334</td>\n",
       "      <td>Liu Yang</td>\n",
       "      <td>110</td>\n",
       "      <td>11-04-1982</td>\n",
       "      <td>34</td>\n",
       "      <td>183</td>\n",
       "      <td>70</td>\n",
       "      <td>1</td>\n",
       "      <td>2</td>\n",
       "      <td>4</td>\n",
       "      <td>...</td>\n",
       "      <td>1</td>\n",
       "      <td>1</td>\n",
       "      <td>1</td>\n",
       "      <td>1</td>\n",
       "      <td>20</td>\n",
       "      <td>1</td>\n",
       "      <td>1</td>\n",
       "      <td>1</td>\n",
       "      <td>1</td>\n",
       "      <td>1</td>\n",
       "    </tr>\n",
       "    <tr>\n",
       "      <th>3</th>\n",
       "      <td>1000337</td>\n",
       "      <td>Song Qi</td>\n",
       "      <td>110</td>\n",
       "      <td>07-04-1985</td>\n",
       "      <td>31</td>\n",
       "      <td>170</td>\n",
       "      <td>65</td>\n",
       "      <td>1</td>\n",
       "      <td>3</td>\n",
       "      <td>1</td>\n",
       "      <td>...</td>\n",
       "      <td>1</td>\n",
       "      <td>1</td>\n",
       "      <td>1</td>\n",
       "      <td>1</td>\n",
       "      <td>1</td>\n",
       "      <td>1</td>\n",
       "      <td>1</td>\n",
       "      <td>1</td>\n",
       "      <td>1</td>\n",
       "      <td>1</td>\n",
       "    </tr>\n",
       "    <tr>\n",
       "      <th>4</th>\n",
       "      <td>1000340</td>\n",
       "      <td>Chen Lei</td>\n",
       "      <td>110</td>\n",
       "      <td>20-01-1983</td>\n",
       "      <td>33</td>\n",
       "      <td>181</td>\n",
       "      <td>70</td>\n",
       "      <td>3</td>\n",
       "      <td>3</td>\n",
       "      <td>2</td>\n",
       "      <td>...</td>\n",
       "      <td>1</td>\n",
       "      <td>1</td>\n",
       "      <td>1</td>\n",
       "      <td>1</td>\n",
       "      <td>1</td>\n",
       "      <td>1</td>\n",
       "      <td>1</td>\n",
       "      <td>1</td>\n",
       "      <td>1</td>\n",
       "      <td>1</td>\n",
       "    </tr>\n",
       "  </tbody>\n",
       "</table>\n",
       "<p>5 rows × 85 columns</p>\n",
       "</div>"
      ],
      "text/plain": [
       "       UID            Name  NationID        Born  Age  Height  Weight  \\\n",
       "0  1000055  Wilfred Bamnjo        11  27-03-1980   36     178      79   \n",
       "1  1000331        Wang Wei       110  20-02-1982   34     188      90   \n",
       "2  1000334        Liu Yang       110  11-04-1982   34     183      70   \n",
       "3  1000337         Song Qi       110  07-04-1985   31     170      65   \n",
       "4  1000340        Chen Lei       110  20-01-1983   33     181      70   \n",
       "\n",
       "   AerialAbility  CommandOfArea  Communication  ...  AttackingMidRight  \\\n",
       "0              1              1              2  ...                  1   \n",
       "1             12              3              5  ...                  1   \n",
       "2              1              2              4  ...                  1   \n",
       "3              1              3              1  ...                  1   \n",
       "4              3              3              2  ...                  1   \n",
       "\n",
       "   DefenderCentral  DefenderLeft  DefenderRight  DefensiveMidfielder  \\\n",
       "0                1             1              1                   20   \n",
       "1                1             1              1                    1   \n",
       "2                1             1              1                   20   \n",
       "3                1             1              1                    1   \n",
       "4                1             1              1                    1   \n",
       "\n",
       "   MidfielderCentral  MidfielderLeft  MidfielderRight  WingBackLeft  \\\n",
       "0                 11               1                1             1   \n",
       "1                  1               1                1             1   \n",
       "2                  1               1                1             1   \n",
       "3                  1               1                1             1   \n",
       "4                  1               1                1             1   \n",
       "\n",
       "   WingBackRight  \n",
       "0              1  \n",
       "1              1  \n",
       "2              1  \n",
       "3              1  \n",
       "4              1  \n",
       "\n",
       "[5 rows x 85 columns]"
      ]
     },
     "execution_count": 7,
     "metadata": {},
     "output_type": "execute_result"
    }
   ],
   "source": [
    "dataset_2 = dataset_1.drop(columns=['IntCaps', 'IntGoals', 'U21Caps', 'U21Goals']).reset_index(drop=True)\n",
    "dataset_2.head()"
   ]
  },
  {
   "cell_type": "markdown",
   "metadata": {},
   "source": [
    "### feature engineering for Position Familarity"
   ]
  },
  {
   "cell_type": "markdown",
   "metadata": {},
   "source": [
    "only get Uppercase Letter in Position for clear visual"
   ]
  },
  {
   "cell_type": "code",
   "execution_count": 8,
   "metadata": {},
   "outputs": [
    {
     "data": {
      "text/plain": [
       "Index(['UID', 'Name', 'NationID', 'Born', 'Age', 'Height', 'Weight',\n",
       "       'AerialAbility', 'CommandOfArea', 'Communication', 'Eccentricity',\n",
       "       'Handling', 'Kicking', 'OneOnOnes', 'Reflexes', 'RushingOut',\n",
       "       'TendencyToPunch', 'Throwing', 'Corners', 'Crossing', 'Dribbling',\n",
       "       'Finishing', 'FirstTouch', 'Freekicks', 'Heading', 'LongShots',\n",
       "       'Longthrows', 'Marking', 'Passing', 'PenaltyTaking', 'Tackling',\n",
       "       'Technique', 'Aggression', 'Anticipation', 'Bravery', 'Composure',\n",
       "       'Concentration', 'Vision', 'Decisions', 'Determination', 'Flair',\n",
       "       'Leadership', 'OffTheBall', 'Positioning', 'Teamwork', 'Workrate',\n",
       "       'Acceleration', 'Agility', 'Balance', 'Jumping', 'LeftFoot',\n",
       "       'NaturalFitness', 'Pace', 'RightFoot', 'Stamina', 'Strength',\n",
       "       'Consistency', 'Dirtiness', 'ImportantMatches', 'InjuryProness',\n",
       "       'Versatility', 'Adaptability', 'Ambition', 'Loyalty', 'Pressure',\n",
       "       'Professional', 'Sportsmanship', 'Temperament', 'Controversy',\n",
       "       'PositionsDesc', 'GK', 'SK', 'STC', 'AMC', 'AML', 'AMR', 'DC', 'DL',\n",
       "       'DR', 'DM', 'MC', 'ML', 'MR', 'WBL', 'WBR'],\n",
       "      dtype='object')"
      ]
     },
     "execution_count": 8,
     "metadata": {},
     "output_type": "execute_result"
    }
   ],
   "source": [
    "positions = dataset_2.columns[-15:].tolist()\n",
    "positions = list(map(lambda x: re.sub('Sweeper', 'SK', x), positions))\n",
    "positions = list(map(lambda x: re.sub('Striker', 'STC', x), positions))\n",
    "positions = list(map(lambda x: re.sub('Goalkeeper', 'GK', x), positions))\n",
    "positions = list(map(lambda x: ''.join(re.findall('[A-Z]', x)), positions))\n",
    "dataset_2.columns = dataset_2.columns[:-15].tolist() + positions\n",
    "dataset_2.columns"
   ]
  },
  {
   "cell_type": "markdown",
   "metadata": {},
   "source": [
    "### feature engineering for PositionsDesc"
   ]
  },
  {
   "cell_type": "markdown",
   "metadata": {},
   "source": [
    "currently col PositionsDesc include all positions player can play in a weird format"
   ]
  },
  {
   "cell_type": "code",
   "execution_count": 9,
   "metadata": {},
   "outputs": [
    {
     "name": "stdout",
     "output_type": "stream",
     "text": [
      "True\n"
     ]
    }
   ],
   "source": [
    "def position_split(x):\n",
    "  list_1 = x.split()\n",
    "  list_2 = list_1[0].split('/')\n",
    "  if len(list_1) == 1:\n",
    "    if len(list_2) == 1:\n",
    "      if list_1[0] == 'S':\n",
    "        return 'STC'\n",
    "      return list_1[0]\n",
    "    return ','.join(list_2)\n",
    "\n",
    "  result_list = list()\n",
    "  \n",
    "  for role in list_2:\n",
    "    if role == 'S':\n",
    "      result_list.append('STC')\n",
    "      continue\n",
    "    for pos in list_1[1]:\n",
    "      if role == 'WB' and pos == 'C':\n",
    "        continue\n",
    "      result_list.append(role + pos)\n",
    "  return ','.join(result_list)\n",
    "\n",
    "def split_position(pos):\n",
    "  pos_set = set()\n",
    "  try:\n",
    "    for p in pos:\n",
    "      try:\n",
    "        pos_list = p.split(',')\n",
    "        pos_set = pos_set.union(set(pos_list))\n",
    "      except:\n",
    "        print(p)\n",
    "  except:\n",
    "    print(pos)\n",
    "  return pos_set\n",
    "\n",
    "def extreme_case_for_pos(x):\n",
    "  x = re.sub('GK,S', 'GK,SK', x)\n",
    "  x = re.sub('DM,S', 'DM,STC', x)\n",
    "  x = re.sub('GK[A-Z]', 'GK', x)\n",
    "  x = re.sub('DM[A-Z]', 'DM', x)\n",
    "  return x\n",
    "\n",
    "\n",
    "dataset_2.loc[:, 'Positions'] = dataset_2.PositionsDesc.apply(position_split)\n",
    "dataset_2.loc[:, 'Positions'] = dataset_2.Positions.apply(extreme_case_for_pos)\n",
    "\n",
    "dataset_3 = dataset_2[dataset_2.PositionsDesc != 'C'].reset_index(drop=True)\n",
    "position_list = list(split_position(dataset_3.loc[:, 'Positions'].unique()))\n",
    "print(set(position_list) == set(positions))"
   ]
  },
  {
   "cell_type": "markdown",
   "metadata": {},
   "source": [
    "position of player is now denoted the same as the Position Fimilarity"
   ]
  },
  {
   "cell_type": "markdown",
   "metadata": {},
   "source": [
    "visualize number of player can play in each position"
   ]
  },
  {
   "cell_type": "code",
   "execution_count": 10,
   "metadata": {},
   "outputs": [
    {
     "data": {
      "image/png": "[encoded data removed]",
      "text/plain": [
       "<Figure size 1600x900 with 1 Axes>"
      ]
     },
     "metadata": {},
     "output_type": "display_data"
    }
   ],
   "source": [
    "position_count_list = list()\n",
    "for pos in position_list:\n",
    "  position_count_list.append(dataset_3.Positions.str.contains(pos).sum())\n",
    "\n",
    "df_position_count = pd.DataFrame(index=list(position_list), data=position_count_list, columns=['Count']).sort_values('Count', ascending=False).reset_index()\n",
    "df_position_count.columns = ['Position', 'Count']\n",
    "\n",
    "sns.set(style='darkgrid')\n",
    "plt.figure(figsize=(16,9))\n",
    "ax = sns.barplot(x='Position', y='Count', data=df_position_count).set_title('Position counts')\n",
    "plt.show()"
   ]
  },
  {
   "cell_type": "markdown",
   "metadata": {},
   "source": [
    "### separate attributes"
   ]
  },
  {
   "cell_type": "code",
   "execution_count": 11,
   "metadata": {},
   "outputs": [],
   "source": [
    "personal_info = ['UID', 'Name', 'NationID', 'Born']\n",
    "goalkeeper_attr = ['AerialAbility', 'CommandOfArea', 'Communication', 'Eccentricity', 'Handling', 'Kicking', 'OneOnOnes', 'Reflexes', 'RushingOut', \n",
    "  'TendencyToPunch', 'Throwing']\n",
    "technical_attr = ['Corners', 'Crossing', 'Dribbling', 'Finishing', 'FirstTouch', 'Freekicks', 'Heading', 'LongShots', 'Longthrows', 'Marking', \n",
    "  'Passing', 'PenaltyTaking', 'Tackling', 'Technique']\n",
    "mental_attr = ['Aggression', 'Anticipation', 'Bravery', 'Composure', 'Concentration', 'Decisions', 'Determination', 'Flair', 'Leadership', \n",
    "'OffTheBall', 'Positioning', 'Teamwork', 'Vision', 'Workrate']\n",
    "physical_attr = ['Acceleration', 'Agility', 'Balance', 'Jumping', 'NaturalFitness', 'Pace', 'Stamina', 'Strength']\n",
    "hidden_attr = ['Consistency', 'Dirtiness', 'ImportantMatches', 'InjuryProness', 'Versatility', 'Adaptability', 'Ambition', 'Loyalty', 'Pressure',\n",
    "  'Professional', 'Sportsmanship', 'Temperament', 'Controversy']\n",
    "foot_atr = ['LeftFoot', 'RightFoot']\n",
    "\n",
    "for x in goalkeeper_attr + mental_attr + physical_attr + hidden_attr + foot_atr + positions + technical_attr:\n",
    "  if not x in dataset_3.columns:\n",
    "    print(x)\n",
    "\n",
    "dataset_3 = dataset_3.reset_index(drop=True)"
   ]
  },
  {
   "cell_type": "markdown",
   "metadata": {},
   "source": [
    "# Main functions"
   ]
  },
  {
   "cell_type": "code",
   "execution_count": 12,
   "metadata": {},
   "outputs": [
    {
     "data": {
      "text/html": [
       "<div>\n",
       "<style scoped>\n",
       "    .dataframe tbody tr th:only-of-type {\n",
       "        vertical-align: middle;\n",
       "    }\n",
       "\n",
       "    .dataframe tbody tr th {\n",
       "        vertical-align: top;\n",
       "    }\n",
       "\n",
       "    .dataframe thead th {\n",
       "        text-align: right;\n",
       "    }\n",
       "</style>\n",
       "<table border=\"1\" class=\"dataframe\">\n",
       "  <thead>\n",
       "    <tr style=\"text-align: right;\">\n",
       "      <th></th>\n",
       "      <th>UID</th>\n",
       "      <th>Name</th>\n",
       "      <th>NationID</th>\n",
       "      <th>Born</th>\n",
       "      <th>Age</th>\n",
       "      <th>Height</th>\n",
       "      <th>Weight</th>\n",
       "      <th>AerialAbility</th>\n",
       "      <th>CommandOfArea</th>\n",
       "      <th>Communication</th>\n",
       "      <th>...</th>\n",
       "      <th>DC</th>\n",
       "      <th>DL</th>\n",
       "      <th>DR</th>\n",
       "      <th>DM</th>\n",
       "      <th>MC</th>\n",
       "      <th>ML</th>\n",
       "      <th>MR</th>\n",
       "      <th>WBL</th>\n",
       "      <th>WBR</th>\n",
       "      <th>Positions</th>\n",
       "    </tr>\n",
       "  </thead>\n",
       "  <tbody>\n",
       "    <tr>\n",
       "      <th>0</th>\n",
       "      <td>1000055</td>\n",
       "      <td>Wilfred Bamnjo</td>\n",
       "      <td>11</td>\n",
       "      <td>27-03-1980</td>\n",
       "      <td>36</td>\n",
       "      <td>178</td>\n",
       "      <td>79</td>\n",
       "      <td>1</td>\n",
       "      <td>1</td>\n",
       "      <td>2</td>\n",
       "      <td>...</td>\n",
       "      <td>1</td>\n",
       "      <td>1</td>\n",
       "      <td>1</td>\n",
       "      <td>20</td>\n",
       "      <td>11</td>\n",
       "      <td>1</td>\n",
       "      <td>1</td>\n",
       "      <td>1</td>\n",
       "      <td>1</td>\n",
       "      <td>DM</td>\n",
       "    </tr>\n",
       "    <tr>\n",
       "      <th>1</th>\n",
       "      <td>1000331</td>\n",
       "      <td>Wang Wei</td>\n",
       "      <td>110</td>\n",
       "      <td>20-02-1982</td>\n",
       "      <td>34</td>\n",
       "      <td>188</td>\n",
       "      <td>90</td>\n",
       "      <td>12</td>\n",
       "      <td>3</td>\n",
       "      <td>5</td>\n",
       "      <td>...</td>\n",
       "      <td>1</td>\n",
       "      <td>1</td>\n",
       "      <td>1</td>\n",
       "      <td>1</td>\n",
       "      <td>1</td>\n",
       "      <td>1</td>\n",
       "      <td>1</td>\n",
       "      <td>1</td>\n",
       "      <td>1</td>\n",
       "      <td>GK</td>\n",
       "    </tr>\n",
       "    <tr>\n",
       "      <th>2</th>\n",
       "      <td>1000334</td>\n",
       "      <td>Liu Yang</td>\n",
       "      <td>110</td>\n",
       "      <td>11-04-1982</td>\n",
       "      <td>34</td>\n",
       "      <td>183</td>\n",
       "      <td>70</td>\n",
       "      <td>1</td>\n",
       "      <td>2</td>\n",
       "      <td>4</td>\n",
       "      <td>...</td>\n",
       "      <td>1</td>\n",
       "      <td>1</td>\n",
       "      <td>1</td>\n",
       "      <td>20</td>\n",
       "      <td>1</td>\n",
       "      <td>1</td>\n",
       "      <td>1</td>\n",
       "      <td>1</td>\n",
       "      <td>1</td>\n",
       "      <td>DM</td>\n",
       "    </tr>\n",
       "    <tr>\n",
       "      <th>3</th>\n",
       "      <td>1000337</td>\n",
       "      <td>Song Qi</td>\n",
       "      <td>110</td>\n",
       "      <td>07-04-1985</td>\n",
       "      <td>31</td>\n",
       "      <td>170</td>\n",
       "      <td>65</td>\n",
       "      <td>1</td>\n",
       "      <td>3</td>\n",
       "      <td>1</td>\n",
       "      <td>...</td>\n",
       "      <td>1</td>\n",
       "      <td>1</td>\n",
       "      <td>1</td>\n",
       "      <td>1</td>\n",
       "      <td>1</td>\n",
       "      <td>1</td>\n",
       "      <td>1</td>\n",
       "      <td>1</td>\n",
       "      <td>1</td>\n",
       "      <td>STC</td>\n",
       "    </tr>\n",
       "    <tr>\n",
       "      <th>4</th>\n",
       "      <td>1000340</td>\n",
       "      <td>Chen Lei</td>\n",
       "      <td>110</td>\n",
       "      <td>20-01-1983</td>\n",
       "      <td>33</td>\n",
       "      <td>181</td>\n",
       "      <td>70</td>\n",
       "      <td>3</td>\n",
       "      <td>3</td>\n",
       "      <td>2</td>\n",
       "      <td>...</td>\n",
       "      <td>1</td>\n",
       "      <td>1</td>\n",
       "      <td>1</td>\n",
       "      <td>1</td>\n",
       "      <td>1</td>\n",
       "      <td>1</td>\n",
       "      <td>1</td>\n",
       "      <td>1</td>\n",
       "      <td>1</td>\n",
       "      <td>STC</td>\n",
       "    </tr>\n",
       "  </tbody>\n",
       "</table>\n",
       "<p>5 rows × 86 columns</p>\n",
       "</div>"
      ],
      "text/plain": [
       "       UID            Name  NationID        Born  Age  Height  Weight  \\\n",
       "0  1000055  Wilfred Bamnjo        11  27-03-1980   36     178      79   \n",
       "1  1000331        Wang Wei       110  20-02-1982   34     188      90   \n",
       "2  1000334        Liu Yang       110  11-04-1982   34     183      70   \n",
       "3  1000337         Song Qi       110  07-04-1985   31     170      65   \n",
       "4  1000340        Chen Lei       110  20-01-1983   33     181      70   \n",
       "\n",
       "   AerialAbility  CommandOfArea  Communication  ...  DC  DL  DR  DM  MC  ML  \\\n",
       "0              1              1              2  ...   1   1   1  20  11   1   \n",
       "1             12              3              5  ...   1   1   1   1   1   1   \n",
       "2              1              2              4  ...   1   1   1  20   1   1   \n",
       "3              1              3              1  ...   1   1   1   1   1   1   \n",
       "4              3              3              2  ...   1   1   1   1   1   1   \n",
       "\n",
       "   MR  WBL  WBR  Positions  \n",
       "0   1    1    1         DM  \n",
       "1   1    1    1         GK  \n",
       "2   1    1    1         DM  \n",
       "3   1    1    1        STC  \n",
       "4   1    1    1        STC  \n",
       "\n",
       "[5 rows x 86 columns]"
      ]
     },
     "execution_count": 12,
     "metadata": {},
     "output_type": "execute_result"
    }
   ],
   "source": [
    "dataset_3.head()"
   ]
  },
  {
   "cell_type": "code",
   "execution_count": 13,
   "metadata": {},
   "outputs": [],
   "source": [
    "def randomize_player(dataset):\n",
    "  idx = np.random.randint(0, dataset.shape[0])\n",
    "  return dataset.loc[idx, :]\n",
    "\n",
    "def get_player_main_position(player_data):\n",
    "  max_familarity = player_data[positions].max()\n",
    "  return np.array(positions)[(player_data[positions] == max_familarity)]\n",
    "\n",
    "def get_corr_matrix_for_pos(dataset, pos, familarity=15, mental=True):\n",
    "  playing_in_pos = dataset[dataset[pos] > familarity].reset_index(drop=True)\n",
    "  if mental:\n",
    "    playing_in_pos = playing_in_pos.loc[:, technical_attr + mental_attr + physical_attr]\n",
    "  else:\n",
    "    playing_in_pos = playing_in_pos.loc[:, technical_attr + physical_attr]\n",
    "\n",
    "  return playing_in_pos.corr()\n",
    "\n",
    "def get_relevant_attr(corr, threshold=0.7):\n",
    "  relevant_attr_dict = dict()\n",
    "  for idx, row in corr.iterrows():\n",
    "    for relevant in row[abs(row) > threshold].index.tolist():\n",
    "      if relevant == str(idx):\n",
    "        continue\n",
    "    \n",
    "      relevant_attr_dict[frozenset([idx, relevant])] = row[relevant]\n",
    "\n",
    "  return relevant_attr_dict\n",
    "  \n",
    "def get_relevant_group(relevant_attr_dict):\n",
    "  groups = list() # list of set\n",
    "  if len(relevant_attr_dict) == 0:\n",
    "    return list()\n",
    "\n",
    "  groups.append(set(list(relevant_attr_dict.keys())[0]))\n",
    "  for key in relevant_attr_dict.keys():\n",
    "    attrs = list(key)\n",
    "    for group in groups:\n",
    "      if attrs[0] in group or attrs[1] in group:\n",
    "        group.add(attrs[0])\n",
    "        group.add(attrs[1])\n",
    "        break\n",
    "      else:\n",
    "        groups.append(set(key))\n",
    "\n",
    "  result = list()\n",
    "  for group in groups:\n",
    "    if not group in result:\n",
    "      duplicate = False\n",
    "      for old_group in result:\n",
    "        if group.intersection(old_group) == group:\n",
    "          duplicate = True\n",
    "          break\n",
    "        if group.intersection(old_group) == old_group:\n",
    "          result.pop(old_group)\n",
    "      if not duplicate:\n",
    "        result.append(group)\n",
    "  return result\n",
    "\n",
    "def get_player_feature(player, high_corr_group, mental=True, number_of_attribute=7):\n",
    "  player = player[technical_attr + mental_attr * mental + physical_attr]\n",
    "  high_corr_dict = dict()\n",
    "  for group in high_corr_group:\n",
    "    for attr in list(group):\n",
    "      high_corr_dict[attr] = list(group)\n",
    "\n",
    "  result = list()\n",
    "  out_list = list()\n",
    "  \n",
    "  best_attr = player.sort_values(ascending=False).index.tolist()\n",
    "  \n",
    "  for attr in best_attr:\n",
    "    if attr in out_list:\n",
    "      continue\n",
    "    if not attr in result:\n",
    "      result.append(attr)\n",
    "      if attr in high_corr_dict.keys():\n",
    "        out_list += high_corr_dict[attr]\n",
    "\n",
    "  return result[:number_of_attribute]\n"
   ]
  },
  {
   "cell_type": "code",
   "execution_count": 19,
   "metadata": {},
   "outputs": [
    {
     "name": "stdout",
     "output_type": "stream",
     "text": [
      "Player main position is:  DM\n",
      "Recommended attributes for DM:  ['Stamina', 'Workrate', 'Teamwork', 'Strength', 'Longthrows', 'Pace', 'Concentration']\n"
     ]
    }
   ],
   "source": [
    "using_mental_attr = True\n",
    "threshold_for_pos_familarity = 15\n",
    "corr_threshold = 0.7\n",
    "number_of_attribute = 7\n",
    "\n",
    "player = randomize_player(dataset_3)\n",
    "main_pos = get_player_main_position(player)\n",
    "print(\"Player main position is: \", ','.join(main_pos))\n",
    "\n",
    "for pos in main_pos:\n",
    "  corr_matrix = get_corr_matrix_for_pos(dataset_3, main_pos[0], threshold_for_pos_familarity, using_mental_attr)\n",
    "  high_corr_attr = get_relevant_attr(corr_matrix, corr_threshold)\n",
    "  high_corr_group = get_relevant_group(high_corr_attr)\n",
    "  print(f\"Recommended attributes for {pos}: \", get_player_feature(player, high_corr_group, using_mental_attr, number_of_attribute))"
   ]
  },
  {
   "cell_type": "code",
   "execution_count": null,
   "metadata": {},
   "outputs": [],
   "source": []
  }
 ],
 "metadata": {
  "kernelspec": {
   "display_name": "Python 3.8.13 ('base')",
   "language": "python",
   "name": "python3"
  },
  "language_info": {
   "codemirror_mode": {
    "name": "ipython",
    "version": 3
   },
   "file_extension": ".py",
   "mimetype": "text/x-python",
   "name": "python",
   "nbconvert_exporter": "python",
   "pygments_lexer": "ipython3",
   "version": "3.8.13"
  },
  "orig_nbformat": 4,
  "vscode": {
   "interpreter": {
    "hash": "b679891376ae87b6a8b8dae5b0e180fcf4eaa79365a7755929dc96d1d7f8416f"
   }
  }
 },
 "nbformat": 4,
 "nbformat_minor": 2
}
